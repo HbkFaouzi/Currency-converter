{
 "cells": [
  {
   "cell_type": "markdown",
   "id": "0d8bda2d-32c5-4ba4-8e17-f5827eae181d",
   "metadata": {},
   "source": [
    "# Import libaries"
   ]
  },
  {
   "cell_type": "code",
   "execution_count": 1,
   "id": "55ec91cc-f298-4089-ac7f-ecbe9862a15a",
   "metadata": {},
   "outputs": [],
   "source": [
    "# Import required modules\n",
    "from tkinter import *\n",
    "from tkinter import ttk\n",
    "from tkinter import messagebox\n",
    "import tkinter as tk\n",
    "import requests\n",
    "import datetime as dt"
   ]
  },
  {
   "cell_type": "markdown",
   "id": "1637235c-5333-45c2-ae5e-145b4c3a49cc",
   "metadata": {},
   "source": [
    "# Convert the currency"
   ]
  },
  {
   "cell_type": "code",
   "execution_count": 2,
   "id": "c093e97f-6154-41d0-9e39-cf28e46782a9",
   "metadata": {},
   "outputs": [],
   "source": [
    "# Converting stuff\n",
    "class CurrencyConverter:\n",
    "\n",
    "    def __init__(self, url):\n",
    "        self.url = 'https://api.exchangerate.host/latest'\n",
    "        self.response = requests.get(url)\n",
    "        self.data = self.response.json()\n",
    "        self.rates = self.data.get('rates')\n",
    "\n",
    "    def convert(self, amount, base_currency, des_currency):\n",
    "        if base_currency != 'EUR':\n",
    "            amount = amount/self.rates[base_currency]\n",
    "\n",
    "        # Limiting the result to 2 decimal places\n",
    "        amount = round(amount*self.rates[des_currency], 2)\n",
    "        # Add comma every 3 numbers\n",
    "        amount = '{:,}'.format(amount)\n",
    "        return amount"
   ]
  },
  {
   "cell_type": "markdown",
   "id": "d151f116-1371-4793-ac0a-f0b377da8572",
   "metadata": {},
   "source": [
    "# User interface"
   ]
  },
  {
   "cell_type": "code",
   "execution_count": 3,
   "id": "7c3f36c3-57e6-49bd-a4d3-04000870ff2d",
   "metadata": {},
   "outputs": [],
   "source": [
    "# Main window\n",
    "class Main(tk.Tk):\n",
    "\n",
    "    def __init__(self, converter):\n",
    "        tk.Tk.__init__(self)\n",
    "        self.title('Currency Converter')\n",
    "        self.geometry('400x400')\n",
    "        self.config(bg='#0000FF')\n",
    "        self.CurrencyConverter = converter\n",
    "\n",
    "        # Create title label\n",
    "        self.title_label = Label(self, text='Currency Converter', bg='#0000FF', fg='white', font=('franklin gothic medium', 20), relief='sunken')\n",
    "        self.title_label.place(x=200, y=35, anchor='center')\n",
    "\n",
    "        # Create date label\n",
    "        self.date_label = Label(self, text=f'{dt.datetime.now():%A, %B %d, %Y}', bg='#0000FF', fg='white', font=('calibri', 10))\n",
    "        self.date_label.place(x=0, y=400, anchor='sw')\n",
    "\n",
    "        # Create version label\n",
    "        self.version_label = Label(self, text='v1.0', bg='#0000FF', fg='white', font=('calibri', 10))\n",
    "        self.version_label.place(x=400, y=400, anchor='se')\n",
    "\n",
    "        # Create amount label\n",
    "        self.amount_label = Label(self, text='Input Amount: ', bg='#0000FF', fg='white', font=('franklin gothic book', 15))\n",
    "        self.amount_label.place(x=200, y=80, anchor='center')\n",
    "\n",
    "        # Create amount entry box\n",
    "        self.amount_entry = Entry(self)\n",
    "        self.amount_entry.config(width=25)\n",
    "        self.amount_entry.place(x=200, y=110, anchor='center')\n",
    "\n",
    "        # Create 'from' label\n",
    "        self.base_currency_label = Label(self, text='From: ', bg='#0000FF', fg='white', font=('franklin gothic book', 15))\n",
    "        self.base_currency_label.place(x=200, y=140, anchor='center')\n",
    "\n",
    "        # Create 'to' label\n",
    "        self.destination_currency_label = Label(self, text='To: ', bg='#0000FF', fg='white', font=('franklin gothic book', 15))\n",
    "        self.destination_currency_label.place(x=200, y=200, anchor='center')\n",
    "\n",
    "        # Create dropdown menus\n",
    "        self.currency_variable1 = StringVar(self)\n",
    "        self.currency_variable2 = StringVar(self)\n",
    "        self.currency_variable1.set('USD')\n",
    "        self.currency_variable2.set('EUR')\n",
    "\n",
    "        self.currency_combobox1 = ttk.Combobox(self, width=20, textvariable=self.currency_variable1, values=list(self.CurrencyConverter.rates.keys()), state='readonly')\n",
    "        self.currency_combobox1.place(x=200, y=170, anchor='center')\n",
    "\n",
    "        self.currency_combobox2 = ttk.Combobox(self, width=20, textvariable=self.currency_variable2, values=list(self.CurrencyConverter.rates.keys()), state='readonly')\n",
    "        self.currency_combobox2.place(x=200, y=230, anchor='center')\n",
    "\n",
    "        # Create 'convert' button\n",
    "        self.convert_button = Button(self, text='Convert', bg='#52595D', fg='white', command=self.processed)\n",
    "        self.convert_button.place(x=170, y=270, anchor='center')\n",
    "\n",
    "        # Create 'clear' button\n",
    "        self.clear_button = Button(self, text='Clear', bg='red', fg='white', command=self.clear)\n",
    "        self.clear_button.place(x=230, y=270, anchor='center')\n",
    "\n",
    "        # Create converted result field\n",
    "        self.final_result = Label(self, text='', bg='#52595D', fg='white', font=('calibri', 12), relief='sunken', width=40)\n",
    "        self.final_result.place(x=200, y=310, anchor='center')\n",
    "\n",
    "    # Create clear function, to clear the amount field and final result field\n",
    "    def clear(self):\n",
    "        clear_entry = self.amount_entry.delete(0, END)\n",
    "        clear_result = self.final_result.config(text='')\n",
    "        return clear_entry, clear_result\n",
    "\n",
    "    # Create a function to perform\n",
    "    def processed(self):\n",
    "        try:\n",
    "            given_amount = float(self.amount_entry.get())\n",
    "            given_base_currency = self.currency_variable1.get()\n",
    "            given_des_currency = self.currency_variable2.get()\n",
    "            converted_amount = self.CurrencyConverter.convert(given_amount, given_base_currency, given_des_currency)\n",
    "            # Add comma every 3 numbers\n",
    "            given_amount = '{:,}'.format(given_amount)\n",
    "\n",
    "            self.final_result.config(text=f'{given_amount} {given_base_currency} = {converted_amount} {given_des_currency}')\n",
    "\n",
    "        # Create warning message box\n",
    "        except ValueError:\n",
    "            convert_error = messagebox.showwarning('WARNING!', 'Please Fill the Amount Field (integer only)!')\n",
    "            return convert_error"
   ]
  },
  {
   "cell_type": "markdown",
   "id": "92cf650f-267f-455e-ac6a-b7e8837d963e",
   "metadata": {},
   "source": [
    "# Main function"
   ]
  },
  {
   "cell_type": "code",
   "execution_count": 4,
   "id": "9098c97e-5703-4aa9-9961-220f2ce2c4a1",
   "metadata": {},
   "outputs": [],
   "source": [
    "if __name__ == '__main__':\n",
    "    converter = CurrencyConverter('https://api.exchangerate.host/latest')\n",
    "    Main(converter)\n",
    "    mainloop()"
   ]
  }
 ],
 "metadata": {
  "kernelspec": {
   "display_name": "Python 3 (ipykernel)",
   "language": "python",
   "name": "python3"
  },
  "language_info": {
   "codemirror_mode": {
    "name": "ipython",
    "version": 3
   },
   "file_extension": ".py",
   "mimetype": "text/x-python",
   "name": "python",
   "nbconvert_exporter": "python",
   "pygments_lexer": "ipython3",
   "version": "3.9.12"
  }
 },
 "nbformat": 4,
 "nbformat_minor": 5
}
